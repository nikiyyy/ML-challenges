{
 "cells": [
  {
   "cell_type": "code",
   "execution_count": 67,
   "id": "a4d248a5",
   "metadata": {},
   "outputs": [],
   "source": [
    "import pandas as pd\n",
    "from sklearn.linear_model import LogisticRegression\n",
    "from sklearn.model_selection import train_test_split\n",
    "from sklearn.metrics import accuracy_score"
   ]
  },
  {
   "cell_type": "code",
   "execution_count": 68,
   "id": "e38699a0",
   "metadata": {},
   "outputs": [],
   "source": [
    "passanger_data = pd.read_csv(\"titanic.csv\")\n",
    "passanger_attributes = passanger_data.drop(columns=['PassengerId', 'Name', 'Ticket', 'Embarked','Cabin']).dropna()\n",
    "passanger_target = passanger_attributes['Survived']\n",
    "final_passanger_attributes = pd.get_dummies(passanger_attributes)"
   ]
  },
  {
   "cell_type": "code",
   "execution_count": 71,
   "id": "6d30c5d0",
   "metadata": {},
   "outputs": [],
   "source": [
    "model = LogisticRegression(max_iter=1000)\n",
    "X_train, X_test, y_train, y_test = train_test_split(final_passanger_attributes, passanger_target, test_size = 0.2)\n",
    "model.fit(X_train, y_train)\n",
    "predictions = model.predict(X_test)"
   ]
  },
  {
   "cell_type": "code",
   "execution_count": null,
   "id": "e2710254",
   "metadata": {},
   "outputs": [],
   "source": [
    "accuracy_score(y_test, predictions)"
   ]
  }
 ],
 "metadata": {
  "kernelspec": {
   "display_name": "Python 3 (ipykernel)",
   "language": "python",
   "name": "python3"
  },
  "language_info": {
   "codemirror_mode": {
    "name": "ipython",
    "version": 3
   },
   "file_extension": ".py",
   "mimetype": "text/x-python",
   "name": "python",
   "nbconvert_exporter": "python",
   "pygments_lexer": "ipython3",
   "version": "3.11.4"
  }
 },
 "nbformat": 4,
 "nbformat_minor": 5
}
